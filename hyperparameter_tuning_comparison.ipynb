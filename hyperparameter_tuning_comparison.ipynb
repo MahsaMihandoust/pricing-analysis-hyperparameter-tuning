{
 "cells": [
  {
   "cell_type": "markdown",
   "id": "7d5b3263",
   "metadata": {},
   "source": [
    "# 🔧 Hyperparameter Tuning: Random Forest Comparison\n",
    "This notebook compares two tuning strategies:\n",
    "1. HalvingGridSearchCV\n",
    "2. Optuna (Bayesian Optimization)\n",
    "\n",
    "Dataset: `used_cars_cleaned.csv`\n"
   ]
  },
  {
   "cell_type": "code",
   "execution_count": null,
   "id": "f3e8b9ef",
   "metadata": {},
   "outputs": [],
   "source": [
    "import pandas as pd\n",
    "import numpy as np\n",
    "from sklearn.model_selection import train_test_split\n",
    "from sklearn.ensemble import RandomForestRegressor\n",
    "from sklearn.metrics import mean_squared_error, mean_absolute_error, r2_score\n",
    "from sklearn.experimental import enable_halving_search_cv\n",
    "from sklearn.model_selection import HalvingGridSearchCV\n",
    "import optuna"
   ]
  },
  {
   "cell_type": "code",
   "execution_count": null,
   "id": "87140b2d",
   "metadata": {},
   "outputs": [],
   "source": [
    "# Load and prepare data\n",
    "df = pd.read_csv('/content/used_cars_cleaned.csv')\n",
    "features = ['odometer', 'vehicle_age', 'is_clean_title', 'manufacturer', 'condition', 'transmission']\n",
    "df = df.dropna(subset=features + ['price'])\n",
    "df['log_price'] = np.log1p(df['price'])\n",
    "df_encoded = pd.get_dummies(df[features], drop_first=True)\n",
    "X = df_encoded\n",
    "y = df['log_price']\n",
    "X_train, X_test, y_train, y_test = train_test_split(X, y, test_size=0.2, random_state=42)"
   ]
  },
  {
   "cell_type": "code",
   "execution_count": null,
   "id": "53e68e77",
   "metadata": {},
   "outputs": [],
   "source": [
    "def evaluate_model(model, X_test, y_test):\n",
    "    y_pred_log = model.predict(X_test)\n",
    "    y_pred = np.expm1(y_pred_log)\n",
    "    y_true = np.expm1(y_test)\n",
    "    rmse = np.sqrt(mean_squared_error(y_true, y_pred))\n",
    "    mae = mean_absolute_error(y_true, y_pred)\n",
    "    r2 = r2_score(y_true, y_pred)\n",
    "    print(f\"RMSE: ${rmse:,.2f}\\nMAE: ${mae:,.2f}\\nR² Score: {r2:.4f}\")"
   ]
  },
  {
   "cell_type": "markdown",
   "id": "4872b6f8",
   "metadata": {},
   "source": [
    "## ⚙️ HalvingGridSearchCV"
   ]
  },
  {
   "cell_type": "code",
   "execution_count": null,
   "id": "cd4dd392",
   "metadata": {},
   "outputs": [],
   "source": [
    "param_grid = {\n",
    "    'n_estimators': [100, 150],\n",
    "    'max_depth': [10, 20],\n",
    "    'min_samples_split': [2, 5],\n",
    "    'min_samples_leaf': [1, 2],\n",
    "    'max_features': ['sqrt']\n",
    "}\n",
    "rf = RandomForestRegressor(random_state=42)\n",
    "halving_cv = HalvingGridSearchCV(rf, param_grid, cv=3, factor=3, scoring='neg_mean_squared_error', n_jobs=-1, verbose=1)\n",
    "halving_cv.fit(X_train, y_train)\n",
    "print(\"Best Parameters:\", halving_cv.best_params_)\n",
    "evaluate_model(halving_cv.best_estimator_, X_test, y_test)"
   ]
  },
  {
   "cell_type": "markdown",
   "id": "e00052b0",
   "metadata": {},
   "source": [
    "## 🔍 Optuna Tuning"
   ]
  },
  {
   "cell_type": "code",
   "execution_count": null,
   "id": "cdc513d4",
   "metadata": {},
   "outputs": [],
   "source": [
    "def objective(trial):\n",
    "    params = {\n",
    "        'n_estimators': trial.suggest_int('n_estimators', 100, 200),\n",
    "        'max_depth': trial.suggest_int('max_depth', 5, 30),\n",
    "        'min_samples_split': trial.suggest_int('min_samples_split', 2, 10),\n",
    "        'min_samples_leaf': trial.suggest_int('min_samples_leaf', 1, 10),\n",
    "        'max_features': trial.suggest_categorical('max_features', ['sqrt', 'log2'])\n",
    "    }\n",
    "    model = RandomForestRegressor(random_state=42, **params)\n",
    "    model.fit(X_train, y_train)\n",
    "    preds = model.predict(X_test)\n",
    "    return mean_squared_error(y_test, preds)\n",
    "\n",
    "study = optuna.create_study(direction='minimize')\n",
    "study.optimize(objective, n_trials=20)\n",
    "best_params = study.best_params\n",
    "print(\"Best Parameters:\", best_params)\n",
    "best_model = RandomForestRegressor(random_state=42, **best_params)\n",
    "best_model.fit(X_train, y_train)\n",
    "evaluate_model(best_model, X_test, y_test)"
   ]
  }
 ],
 "metadata": {},
 "nbformat": 4,
 "nbformat_minor": 5
}
